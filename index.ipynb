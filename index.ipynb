{
 "cells": [
  {
   "cell_type": "markdown",
   "metadata": {},
   "source": [
    "# Project: Analyzing Macbeth\n",
    "\n",
    "## Introduction\n",
    "Now we're going to do some rudimentary analysis of Shakespeare's classic play: Macbeth! You will get practice working with lists and dictionaries, conditionals, visualizing data, and thinking analytically about data.\n",
    "\n",
    "## Objectives\n",
    "You will be able to:\n",
    "* Apply string methods to make changes to a string\n",
    "* Use a `for` loop to iterate over a collection\n",
    "* Assign values in a dictionary\n",
    "\n",
    "## Getting the Data\n",
    "Here we start by importing a Python package called `requests`. We'll use it to pull the transcript of Macbeth from the [Project Gutenberg](https://www.gutenberg.org/) website. We'll also preview a few details about what is now stored in the variable `macbeth`. As you can see, it's a string with 120,253 characters - the first 500 of which are printed below. "
   ]
  },
  {
   "cell_type": "code",
   "execution_count": 1,
   "metadata": {},
   "outputs": [
    {
     "name": "stdout",
     "output_type": "stream",
     "text": [
      "<class 'str'>\n",
      "120253\n",
      "orie fell on vs\r\n",
      "\r\n",
      "   King. Great happinesse\r\n",
      "\r\n",
      "   Rosse. That now Sweno, the Norwayes King,\r\n",
      "Craues composition:\r\n",
      "Nor would we deigne him buriall of his men,\r\n",
      "Till he disbursed, at Saint Colmes ynch,\r\n",
      "Ten thousand Dollars, to our generall vse\r\n",
      "\r\n",
      "   King. No more that Thane of Cawdor shall deceiue\r\n",
      "Our Bosome interest: Goe pronounce his present death,\r\n",
      "And with his former Title greet Macbeth\r\n",
      "\r\n",
      "   Rosse. Ile see it done\r\n",
      "\r\n",
      "   King. What he hath lost, Noble Macbeth hath wonne.\r\n",
      "\r\n",
      "Exeunt.\r\n",
      "\r\n",
      "\r\n",
      "Scena Tertia.\r\n",
      "\r\n",
      "Thunder. Enter the three Witches.\r\n",
      "\r\n",
      "  1. Where hast thou beene, Sister?\r\n",
      "  2. Killing Swine\r\n",
      "\r\n",
      "   3. Sister, where thou?\r\n",
      "  1. A Saylors Wife had Chestnuts in her Lappe,\r\n",
      "And mouncht, & mouncht, and mouncht:\r\n",
      "Giue me, quoth I.\r\n",
      "Aroynt thee, Witch, the rumpe-fed Ronyon cryes.\r\n",
      "Her Husband's to Aleppo gone, Master o'th' Tiger:\r\n",
      "But in a Syue Ile thither sayle,\r\n",
      "And like a Rat without a tayle,\r\n",
      "Ile doe, Ile doe, and Ile doe\r\n",
      "\r\n",
      "   2. Ile giue thee a Winde\r\n",
      "\r\n",
      "   1. Th'art kinde\r\n",
      "\r\n",
      "   3. And I another\r\n",
      "\r\n",
      "   1. I my selfe haue all the other,\r\n",
      "And the very Ports they blow,\r\n",
      "All the Quarters that they know,\r\n",
      "I'th' Ship-mans Card.\r\n",
      "Ile dreyne him drie as Hay:\r\n",
      "Sleepe shall neyther Night nor Day\r\n",
      "Hang vpon his Pent-house Lid:\r\n",
      "He shall liue a man forbid:\r\n",
      "Wearie Seu'nights, nine times nine,\r\n",
      "Shall he dwindle, peake, and pine:\r\n",
      "Though his Barke cannot be lost,\r\n",
      "Yet it shall be Tempest-tost.\r\n",
      "Looke what I haue\r\n",
      "\r\n",
      "   2. Shew me, shew me\r\n",
      "\r\n",
      "   1. Here I haue a Pilots Thumbe,\r\n",
      "Wrackt, as homeward he did come.\r\n",
      "\r\n",
      "Drum within.\r\n",
      "\r\n",
      "  3. A Drumme, a Drumme:\r\n",
      "Macbeth doth come\r\n",
      "\r\n",
      "   All. The weyward Sisters, hand in hand,\r\n",
      "Posters of the Sea and Land,\r\n",
      "Thus doe goe, about, about,\r\n",
      "Thrice to thine, and thrice to mine,\r\n",
      "And thrice againe, to make vp nine.\r\n",
      "Peace, the Charme's wound vp.\r\n",
      "Enter Macbeth and Banquo.\r\n",
      "\r\n",
      "  Macb. So foule and faire a day I haue not seene\r\n",
      "\r\n",
      "   Banquo. How farre is't call'd to Soris? What are these,\r\n",
      "So wither'd, and so wilde in their attyre,\r\n",
      "That looke not \n"
     ]
    }
   ],
   "source": [
    "import requests\n",
    "macbeth = requests.get('http://www.gutenberg.org/cache/epub/2264/pg2264.txt').text\n",
    "\n",
    "print(type(macbeth))\n",
    "print(len(macbeth))\n",
    "print(macbeth[20000:22000])"
   ]
  },
  {
   "cell_type": "markdown",
   "metadata": {},
   "source": [
    "## Your Task\n",
    "\n",
    "Your task is to create a bar graph of the 25 most common words in Shakespeare's Macbeth.  \n",
    "\n",
    "\n",
    "A common Python programming pattern to count objects, produce histograms, or update statistics is to make calls to a dictionary as you iterate through a list. For example, given a list of words, you can create a dictionary to store counts and then iterate through the list of words, checking how many times each word has appeared using your dictionary, and updating the dictionary count now that you've seen that word again. The `.get()` dictionary method is very useful in doing this. Read the docstring for the `.get()` method and use it along with the pseudocode below to create a bar graph of the 25 most common words from the transcript of Macbeth which has been loaded into the variable 'macbeth'. Be sure to include a title and appropriate labels for your graph.\n",
    "\n",
    "To get the 25 *most common* words, you will have to sort your counts. If you are not super sure how to do this, checkout out the [Sorting HOW TO](https://docs.python.org/3/howto/sorting.html) Python documentation. Part of being a data scientist is figuring out how to do tasks that you may not have done before. Remember, in these situations, Google is your friend!"
   ]
  },
  {
   "cell_type": "code",
   "execution_count": 2,
   "metadata": {
    "scrolled": true
   },
   "outputs": [
    {
     "data": {
      "image/png": "[encoded data removed]",
      "text/plain": [
       "<Figure size 1440x720 with 1 Axes>"
      ]
     },
     "metadata": {
      "needs_background": "light"
     },
     "output_type": "display_data"
    }
   ],
   "source": [
    "import numpy as np\n",
    "import matplotlib.pyplot as plt\n",
    "%matplotlib inline\n",
    "import string\n",
    "\n",
    "# make the text all lowercase so the same words \n",
    "# with diferent capitalizations will count as the same word\n",
    "macbeth_lower = macbeth.lower() \n",
    "\n",
    "# remove the punctuation\n",
    "machbeth_no_punctuation = macbeth_lower.translate(str.maketrans('', '', string.punctuation))\n",
    "\n",
    "# split the text into words using space as a seperator\n",
    "words = machbeth_no_punctuation.split() \n",
    "\n",
    "word_freq = {} # initialize the empty dictionary\n",
    "\n",
    "for word in list(range(0,len(words))):\n",
    "    if word_freq.get(words[word], ''):\n",
    "        # word is already in the dictionary, need to increase its count by 1\n",
    "        word_freq[words[word]] += 1\n",
    "    else:\n",
    "        # word is not already in the dictionary, need to add it and set its initial frequency to 1\n",
    "        word_freq.update({words[word]: 1})\n",
    "\n",
    "# sort the words by frequency\n",
    "sorted_words = sorted(word_freq.items(), key=lambda x: x[1], reverse=True)\n",
    "\n",
    "# take a slice of the top 25 words by frequency\n",
    "top_25_words = sorted_words[:25]\n",
    "\n",
    "x = [] # the words\n",
    "y = [] # the frequency\n",
    "for word in list(range(0,len(top_25_words))):\n",
    "    x.append(top_25_words[word][0]) #get the word\n",
    "    y.append(top_25_words[word][1]) #get the frequency\n",
    "\n",
    "# Plot the Word Frequency in MacBeth for Top 25 Words in a bar graph\n",
    "plt.figure(figsize=(20,10))\n",
    "plt.bar(x,y)\n",
    "plt.xlabel('Words')\n",
    "plt.ylabel('Frequency')\n",
    "plt.title('Word Frequency in MacBeth for Top 25 Words')\n",
    "\n",
    "plt.show()\n",
    "\n",
    "# Pseudo-code outline\n",
    "\n",
    "# Split the transcript into words\n",
    "# Create a dictionary\n",
    "# Iterate through the text of Macbeth\n",
    "# Update word counts\n",
    "# Sort words by counts in descending order\n",
    "# Create Bar Graph\n",
    "# Include descriptive titles and labels"
   ]
  },
  {
   "cell_type": "markdown",
   "metadata": {},
   "source": [
    "## Level Up (Optional)\n",
    "This project should take you about an hour and a half to complete. If you're done much more quickly than that and are not behind in the course, feel free to deepen your knowledge by completing any or all of the following tasks until you run out of time:\n",
    "* Create a list of top characters by mentions of their names \n",
    "* Split the text by which character is talking\n",
    "* Create subgraphs of the most common words by character\n",
    "* Reduce the string to the text of the play itself. (Remove any initial notes, forward, introduction, appendix, etc.)\n",
    "* Come up with some other fun analyses of the text!\n",
    "\n",
    "## Summary\n",
    "Congratulations! You've got some extra practice combining various data types into useful programming patterns and done an initial analysis of a classic text!"
   ]
  }
 ],
 "metadata": {
  "kernelspec": {
   "display_name": "learn-env",
   "language": "python",
   "name": "learn-env"
  },
  "language_info": {
   "codemirror_mode": {
    "name": "ipython",
    "version": 3
   },
   "file_extension": ".py",
   "mimetype": "text/x-python",
   "name": "python",
   "nbconvert_exporter": "python",
   "pygments_lexer": "ipython3",
   "version": "3.6.9"
  }
 },
 "nbformat": 4,
 "nbformat_minor": 2
}
